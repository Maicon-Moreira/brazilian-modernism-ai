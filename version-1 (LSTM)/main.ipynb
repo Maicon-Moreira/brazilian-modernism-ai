{
 "metadata": {
  "language_info": {
   "codemirror_mode": {
    "name": "ipython",
    "version": 3
   },
   "file_extension": ".py",
   "mimetype": "text/x-python",
   "name": "python",
   "nbconvert_exporter": "python",
   "pygments_lexer": "ipython3",
   "version": "3.8.2-final"
  },
  "orig_nbformat": 2,
  "kernelspec": {
   "name": "Python 3.8.2 64-bit",
   "display_name": "Python 3.8.2 64-bit",
   "metadata": {
    "interpreter": {
     "hash": "31f2aee4e71d21fbe5cf8b01ff0e069b9275f58929596ceb00d14d90e3e16cd6"
    }
   }
  }
 },
 "nbformat": 4,
 "nbformat_minor": 2,
 "cells": [
  {
   "cell_type": "code",
   "execution_count": 1,
   "metadata": {},
   "outputs": [],
   "source": [
    "import os\n",
    "import tensorflow as tf\n",
    "import tensorflow_datasets as tfds\n",
    "import tensorflow.keras as keras\n",
    "import tensorflow.keras.layers as layers\n",
    "import pickle\n",
    "import json\n",
    "import numpy as np"
   ]
  },
  {
   "cell_type": "code",
   "execution_count": null,
   "metadata": {},
   "outputs": [],
   "source": [
    "print(tfds.__version__)"
   ]
  },
  {
   "cell_type": "code",
   "execution_count": 38,
   "metadata": {
    "tags": []
   },
   "outputs": [],
   "source": [
    "text_lines = []\n",
    "\n",
    "for book in os.listdir('./books/'):\n",
    "    with open(f'./books/{book}', encoding='iso 8859-1') as f:\n",
    "        text_lines += f.readlines()\n",
    "\n",
    "text_lines = [a.lower() for a in text_lines]\n",
    "\n",
    "filtered_text_lines = []\n",
    "\n",
    "for line in text_lines:\n",
    "    if line == '\\n':\n",
    "        pass\n",
    "        # print('linha vazia')\n",
    "    else:\n",
    "        spaces = line.count(' ')\n",
    "        total = len(line)\n",
    "\n",
    "        empty_space = spaces/total\n",
    "\n",
    "        if empty_space >= 0.5:\n",
    "            pass\n",
    "\n",
    "        else:\n",
    "            filtered_text_lines.append(line)\n",
    "\n",
    "with open('./text.txt', 'w') as f:\n",
    "    f.writelines(filtered_text_lines)\n",
    "\n",
    "\n",
    "# www.nead.unama.br"
   ]
  },
  {
   "cell_type": "code",
   "execution_count": null,
   "metadata": {},
   "outputs": [],
   "source": [
    "# tokenizer = tfds.features.text.SubwordTextEncoder.build_from_corpus(text_lines, target_vocab_size=2**13)"
   ]
  },
  {
   "cell_type": "code",
   "execution_count": null,
   "metadata": {},
   "outputs": [],
   "source": [
    "# with open('tokenizer', 'wb') as f:\n",
    "#     f.write(pickle.dumps(tokenizer))"
   ]
  },
  {
   "cell_type": "code",
   "execution_count": 2,
   "metadata": {},
   "outputs": [],
   "source": [
    "with open('tokenizer', 'rb') as f:\n",
    "    tokenizer = pickle.loads(f.read())\n",
    "\n",
    "vocab_size = tokenizer.vocab_size"
   ]
  },
  {
   "cell_type": "code",
   "execution_count": 44,
   "metadata": {},
   "outputs": [],
   "source": [
    "# text = ''.join(filtered_text_lines)"
   ]
  },
  {
   "cell_type": "code",
   "execution_count": 45,
   "metadata": {},
   "outputs": [],
   "source": [
    "# tokens = tokenizer.encode(text)"
   ]
  },
  {
   "cell_type": "code",
   "execution_count": 46,
   "metadata": {},
   "outputs": [],
   "source": [
    "# with open('tokens.json', 'w') as f:\n",
    "    # f.write(json.dumps(tokens))"
   ]
  },
  {
   "cell_type": "code",
   "execution_count": 3,
   "metadata": {},
   "outputs": [],
   "source": [
    "with open('tokens.json', 'r') as f:\n",
    "    tokens = json.loads(f.read())"
   ]
  },
  {
   "cell_type": "code",
   "execution_count": null,
   "metadata": {},
   "outputs": [],
   "source": [
    "# model = keras.Sequential([\n",
    "#     layers.Embedding(input_dim=vocab_size, output_dim=256, input_shape=(100,)),\n",
    "#     layers.LSTM(512),\n",
    "#     layers.Dense(2048),\n",
    "#     layers.Dense(vocab_size, activation='softmax')\n",
    "# ])\n",
    "\n",
    "# model.compile(optimizer='adam', loss='categorical_crossentropy', metrics=['accuracy'])\n",
    "\n",
    "# model.summary()"
   ]
  },
  {
   "cell_type": "code",
   "execution_count": null,
   "metadata": {},
   "outputs": [],
   "source": [
    "# model.save('model.h5')"
   ]
  },
  {
   "cell_type": "code",
   "execution_count": 4,
   "metadata": {},
   "outputs": [
    {
     "output_type": "stream",
     "name": "stdout",
     "text": [
      "Model: \"sequential\"\n_________________________________________________________________\nLayer (type)                 Output Shape              Param #   \n=================================================================\nembedding (Embedding)        (None, 100, 256)          2102784   \n_________________________________________________________________\nlstm (LSTM)                  (None, 512)               1574912   \n_________________________________________________________________\ndense (Dense)                (None, 2048)              1050624   \n_________________________________________________________________\ndense_1 (Dense)              (None, 8214)              16830486  \n=================================================================\nTotal params: 21,558,806\nTrainable params: 21,558,806\nNon-trainable params: 0\n_________________________________________________________________\n"
     ]
    }
   ],
   "source": [
    "model = keras.models.load_model('model.h5')\n",
    "\n",
    "model.summary()"
   ]
  },
  {
   "cell_type": "code",
   "execution_count": null,
   "metadata": {
    "tags": []
   },
   "outputs": [],
   "source": [
    "for i in range(0, len(tokens), 1024):\n",
    "    x = []\n",
    "    y = []\n",
    "\n",
    "    for ii in range(i, i+1024):\n",
    "        x += [tokens[ii:(ii+100)]]\n",
    "        y.append(tokens[ii+100])\n",
    "\n",
    "    \n",
    "    x = np.array(x)\n",
    "    y = keras.utils.to_categorical(y, num_classes=vocab_size)\n",
    "\n",
    "    model.fit(x, y, batch_size=64)"
   ]
  },
  {
   "cell_type": "code",
   "execution_count": 5,
   "metadata": {},
   "outputs": [],
   "source": [
    "from sty import fg, bg, ef, rs\n",
    "from tqdm import tqdm\n",
    "\n",
    "def complete_phrase(phrase, tokens=100, colors=True):\n",
    "    print('-'*100)\n",
    "    print('ENTRADA\\n')\n",
    "    print(phrase)\n",
    "\n",
    "    string = phrase\n",
    "\n",
    "    text = tokenizer.encode(phrase)\n",
    "\n",
    "\n",
    "    for _ in range(tokens):\n",
    "        prediction = model.predict(np.array([text]))[0]\n",
    "\n",
    "        max_i = np.argmax(prediction)\n",
    "        max_value = prediction[max_i]\n",
    "\n",
    "        if colors:\n",
    "            if max_value < 0.5:\n",
    "                color = bg(int(255*abs(0.5-max_value)*2), 0, 0)\n",
    "            else:\n",
    "                color = bg(0, int(255*abs(0.5-max_value)*2), 0)\n",
    "\n",
    "            string += color + tokenizer.decode([max_i])\n",
    "        \n",
    "        else:\n",
    "            string += tokenizer.decode([max_i])\n",
    "\n",
    "        text += [max_i]\n",
    "\n",
    "    print('-'*100)\n",
    "    print('SAIDA\\n')\n",
    "    # print(tokenizer.decode(text))\n",
    "    print(string)"
   ]
  },
  {
   "cell_type": "code",
   "execution_count": 6,
   "metadata": {},
   "outputs": [
    {
     "output_type": "stream",
     "name": "stdout",
     "text": [
      "----------------------------------------------------------------------------------------------------\n",
      "ENTRADA\n",
      "\n",
      "gabriel nao gostava de vermelho nem verde\n",
      "WARNING:tensorflow:Model was constructed with shape (None, 100) for input Tensor(\"embedding_input:0\", shape=(None, 100), dtype=float32), but it was called on an input with incompatible shape (None, 9).\n",
      "WARNING:tensorflow:Model was constructed with shape (None, 100) for input Tensor(\"embedding_input:0\", shape=(None, 100), dtype=float32), but it was called on an input with incompatible shape (None, 10).\n",
      "----------------------------------------------------------------------------------------------------\n",
      "SAIDA\n",
      "\n",
      "gabriel nao gostava de vermelho nem verdesia. passava noites sem\n",
      "acordo, mas em compensação passava uma hora de prazer. a noite ia morrendo na rua do\n",
      "ouvidor e à noite de festa, e a noite se aproximava.\n",
      "quando a música se ia tornando mais animada, era a primeira vez que a vira, e a música se\n",
      "aproximava da noite, e a música soava alegremente, como se cantasse a música interrompida\n",
      "cantando em coros de música alegre.\n",
      "cantando as ópera\n"
     ]
    }
   ],
   "source": [
    "complete_phrase('gabriel nao gostava de vermelho nem verde', tokens=100, colors=False)"
   ]
  }
 ]
}