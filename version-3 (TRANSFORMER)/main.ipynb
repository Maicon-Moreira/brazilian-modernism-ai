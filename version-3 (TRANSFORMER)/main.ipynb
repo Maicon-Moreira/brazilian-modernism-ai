{
 "metadata": {
  "language_info": {
   "codemirror_mode": {
    "name": "ipython",
    "version": 3
   },
   "file_extension": ".py",
   "mimetype": "text/x-python",
   "name": "python",
   "nbconvert_exporter": "python",
   "pygments_lexer": "ipython3",
   "version": "3.8.5-final"
  },
  "orig_nbformat": 2,
  "kernelspec": {
   "name": "Python 3.8.5 64-bit",
   "display_name": "Python 3.8.5 64-bit",
   "metadata": {
    "interpreter": {
     "hash": "31f2aee4e71d21fbe5cf8b01ff0e069b9275f58929596ceb00d14d90e3e16cd6"
    }
   }
  }
 },
 "nbformat": 4,
 "nbformat_minor": 2,
 "cells": [
  {
   "cell_type": "code",
   "execution_count": 1,
   "metadata": {},
   "outputs": [
    {
     "output_type": "stream",
     "name": "stdout",
     "text": [
      "Requirement already satisfied: tensorflow_datasets==3.2.1 in /home/maiconmoreira/.local/lib/python3.8/site-packages (3.2.1)\n",
      "Requirement already satisfied: absl-py in /home/maiconmoreira/.local/lib/python3.8/site-packages (from tensorflow_datasets==3.2.1) (0.10.0)\n",
      "Requirement already satisfied: promise in /home/maiconmoreira/.local/lib/python3.8/site-packages (from tensorflow_datasets==3.2.1) (2.3)\n",
      "Requirement already satisfied: protobuf>=3.6.1 in /home/maiconmoreira/.local/lib/python3.8/site-packages (from tensorflow_datasets==3.2.1) (3.13.0)\n",
      "Requirement already satisfied: requests>=2.19.0 in /usr/lib/python3/dist-packages (from tensorflow_datasets==3.2.1) (2.22.0)\n",
      "Requirement already satisfied: future in /home/maiconmoreira/.local/lib/python3.8/site-packages (from tensorflow_datasets==3.2.1) (0.18.2)\n",
      "Requirement already satisfied: tqdm in /home/maiconmoreira/.local/lib/python3.8/site-packages (from tensorflow_datasets==3.2.1) (4.50.0)\n",
      "Requirement already satisfied: wrapt in /home/maiconmoreira/.local/lib/python3.8/site-packages (from tensorflow_datasets==3.2.1) (1.12.1)\n",
      "Requirement already satisfied: attrs>=18.1.0 in /home/maiconmoreira/.local/lib/python3.8/site-packages (from tensorflow_datasets==3.2.1) (20.2.0)\n",
      "Requirement already satisfied: dill in /home/maiconmoreira/.local/lib/python3.8/site-packages (from tensorflow_datasets==3.2.1) (0.3.2)\n",
      "Requirement already satisfied: tensorflow-metadata in /home/maiconmoreira/.local/lib/python3.8/site-packages (from tensorflow_datasets==3.2.1) (0.24.0)\n",
      "Requirement already satisfied: termcolor in /home/maiconmoreira/.local/lib/python3.8/site-packages (from tensorflow_datasets==3.2.1) (1.1.0)\n",
      "Requirement already satisfied: six in /usr/lib/python3/dist-packages (from tensorflow_datasets==3.2.1) (1.14.0)\n",
      "Requirement already satisfied: numpy in /home/maiconmoreira/.local/lib/python3.8/site-packages (from tensorflow_datasets==3.2.1) (1.18.5)\n",
      "Requirement already satisfied: setuptools in /usr/lib/python3/dist-packages (from protobuf>=3.6.1->tensorflow_datasets==3.2.1) (45.2.0)\n",
      "Requirement already satisfied: googleapis-common-protos<2,>=1.52.0 in /home/maiconmoreira/.local/lib/python3.8/site-packages (from tensorflow-metadata->tensorflow_datasets==3.2.1) (1.52.0)\n"
     ]
    },
    {
     "output_type": "error",
     "ename": "ModuleNotFoundError",
     "evalue": "No module named 'google.colab'",
     "traceback": [
      "\u001b[0;31m---------------------------------------------------------------------------\u001b[0m",
      "\u001b[0;31mModuleNotFoundError\u001b[0m                       Traceback (most recent call last)",
      "\u001b[0;32m<ipython-input-1-885da42c97fe>\u001b[0m in \u001b[0;36m<module>\u001b[0;34m\u001b[0m\n\u001b[1;32m     10\u001b[0m \u001b[0;32mimport\u001b[0m \u001b[0mnumpy\u001b[0m \u001b[0;32mas\u001b[0m \u001b[0mnp\u001b[0m\u001b[0;34m\u001b[0m\u001b[0;34m\u001b[0m\u001b[0m\n\u001b[1;32m     11\u001b[0m \u001b[0;32mimport\u001b[0m \u001b[0mrandom\u001b[0m\u001b[0;34m\u001b[0m\u001b[0;34m\u001b[0m\u001b[0m\n\u001b[0;32m---> 12\u001b[0;31m \u001b[0;32mfrom\u001b[0m \u001b[0mgoogle\u001b[0m\u001b[0;34m.\u001b[0m\u001b[0mcolab\u001b[0m \u001b[0;32mimport\u001b[0m \u001b[0mdrive\u001b[0m\u001b[0;34m\u001b[0m\u001b[0;34m\u001b[0m\u001b[0m\n\u001b[0m\u001b[1;32m     13\u001b[0m \u001b[0;34m\u001b[0m\u001b[0m\n\u001b[1;32m     14\u001b[0m \u001b[0mdrive\u001b[0m\u001b[0;34m.\u001b[0m\u001b[0mmount\u001b[0m\u001b[0;34m(\u001b[0m\u001b[0;34m'./gdrive'\u001b[0m\u001b[0;34m)\u001b[0m\u001b[0;34m\u001b[0m\u001b[0;34m\u001b[0m\u001b[0m\n",
      "\u001b[0;31mModuleNotFoundError\u001b[0m: No module named 'google.colab'"
     ]
    }
   ],
   "source": [
    "!pip3 install tensorflow_datasets==3.2.1\n",
    "\n",
    "import os\n",
    "import tensorflow as tf\n",
    "import tensorflow_datasets as tfds\n",
    "import tensorflow.keras as keras\n",
    "import tensorflow.keras.layers as layers\n",
    "import pickle\n",
    "import json\n",
    "import numpy as np\n",
    "import random\n",
    "from google.colab import drive\n",
    "\n",
    "drive.mount('./gdrive')"
   ]
  },
  {
   "cell_type": "code",
   "execution_count": 10,
   "metadata": {},
   "outputs": [],
   "source": [
    "with open('tokenizer', 'rb') as f:\n",
    "    tokenizer = pickle.loads(f.read())\n",
    "\n",
    "vocab_size = tokenizer.vocab_size"
   ]
  },
  {
   "cell_type": "code",
   "execution_count": 17,
   "metadata": {},
   "outputs": [],
   "source": [
    "with open('tokens.json', 'r') as f:\n",
    "    tokens = json.loads(f.read())"
   ]
  },
  {
   "cell_type": "code",
   "execution_count": 27,
   "metadata": {},
   "outputs": [
    {
     "output_type": "stream",
     "name": "stdout",
     "text": [
      "Model: \"sequential_2\"\n_________________________________________________________________\nLayer (type)                 Output Shape              Param #   \n=================================================================\nembedding_2 (Embedding)      (None, 100, 512)          2095104   \n_________________________________________________________________\nlstm_2 (LSTM)                (None, 1024)              6295552   \n_________________________________________________________________\ndense_7 (Dense)              (None, 1024)              1049600   \n_________________________________________________________________\ndropout (Dropout)            (None, 1024)              0         \n_________________________________________________________________\ndense_8 (Dense)              (None, 1024)              1049600   \n_________________________________________________________________\ndropout_1 (Dropout)          (None, 1024)              0         \n_________________________________________________________________\ndense_9 (Dense)              (None, 1024)              1049600   \n_________________________________________________________________\ndropout_2 (Dropout)          (None, 1024)              0         \n_________________________________________________________________\ndense_10 (Dense)             (None, 1024)              1049600   \n_________________________________________________________________\ndropout_3 (Dropout)          (None, 1024)              0         \n_________________________________________________________________\ndense_11 (Dense)             (None, 4092)              4194300   \n=================================================================\nTotal params: 16,783,356\nTrainable params: 16,783,356\nNon-trainable params: 0\n_________________________________________________________________\n"
     ]
    }
   ],
   "source": [
    "model = keras.models.load_model('model.h5')\n",
    "\n",
    "model.summary()"
   ]
  },
  {
   "cell_type": "code",
   "execution_count": null,
   "metadata": {},
   "outputs": [],
   "source": [
    "for i in range(10000):\n",
    "    print(i)\n",
    "\n",
    "    x = []\n",
    "    y = []\n",
    "\n",
    "    for _ in range(102400):\n",
    "        ii = random.randint(0, len(tokens)-101)\n",
    "\n",
    "        x += [tokens[ii:(ii+100)]]\n",
    "        y.append(tokens[ii+100])\n",
    "\n",
    "    \n",
    "    x = np.array(x)\n",
    "    y = keras.utils.to_categorical(y, num_classes=vocab_size)\n",
    "\n",
    "    model.fit(x, y, batch_size=1024)\n",
    "\n",
    "    if i % 5 == 0:\n",
    "        model.save('./gdrive/My Drive/brazilian-modernism-ai/version-2/model.h5')\n",
    "        model.save('./gdrive/My Drive/brazilian-modernism-ai/version-2/model_backup.h5')\n",
    "        print('model saved')"
   ]
  },
  {
   "cell_type": "code",
   "execution_count": 22,
   "metadata": {},
   "outputs": [],
   "source": [
    "from sty import fg, bg, ef, rs\n",
    "from tqdm import tqdm\n",
    "\n",
    "def complete_phrase(phrase, tokens=100, colors=True):\n",
    "    print('-'*100)\n",
    "    print('ENTRADA\\n')\n",
    "    print(phrase)\n",
    "\n",
    "    string = phrase\n",
    "\n",
    "    text = tokenizer.encode(phrase)\n",
    "\n",
    "\n",
    "    for _ in tqdm(range(tokens)):\n",
    "        prediction = model.predict(np.array([text]))[0]\n",
    "\n",
    "        max_i = np.argmax(prediction)\n",
    "        max_value = prediction[max_i]\n",
    "\n",
    "        if colors:\n",
    "            if max_value < 0.5:\n",
    "                color = bg(int(255*abs(0.5-max_value)*2), 0, 0)\n",
    "            else:\n",
    "                color = bg(0, int(255*abs(0.5-max_value)*2), 0)\n",
    "\n",
    "            string += color + tokenizer.decode([max_i])\n",
    "        \n",
    "        else:\n",
    "            string += tokenizer.decode([max_i])\n",
    "\n",
    "        text += [max_i]\n",
    "\n",
    "    print('-'*100)\n",
    "    print('SAIDA\\n')\n",
    "    # print(tokenizer.decode(text))\n",
    "    print(string)"
   ]
  },
  {
   "cell_type": "code",
   "execution_count": 23,
   "metadata": {},
   "outputs": [
    {
     "output_type": "stream",
     "name": "stderr",
     "text": [
      "  0%|          | 0/100 [00:00<?, ?it/s]----------------------------------------------------------------------------------------------------\n",
      "ENTRADA\n",
      "\n",
      "maicon lia um livro quando\n",
      "WARNING:tensorflow:Model was constructed with shape (None, 100) for input Tensor(\"embedding_1_input_1:0\", shape=(None, 100), dtype=float32), but it was called on an input with incompatible shape (None, 9).\n",
      "WARNING:tensorflow:Model was constructed with shape (None, 100) for input Tensor(\"embedding_1_input_1:0\", shape=(None, 100), dtype=float32), but it was called on an input with incompatible shape (None, 9).\n",
      "  1%|          | 1/100 [00:00<00:56,  1.75it/s]WARNING:tensorflow:Model was constructed with shape (None, 100) for input Tensor(\"embedding_1_input_1:0\", shape=(None, 100), dtype=float32), but it was called on an input with incompatible shape (None, 10).\n",
      "WARNING:tensorflow:Model was constructed with shape (None, 100) for input Tensor(\"embedding_1_input_1:0\", shape=(None, 100), dtype=float32), but it was called on an input with incompatible shape (None, 10).\n",
      "100%|██████████| 100/100 [00:36<00:00,  2.75it/s]----------------------------------------------------------------------------------------------------\n",
      "SAIDA\n",
      "\n",
      "maicon lia um livro quandochegavamal sorrindodama�cada vãosse gadcontemplaertertalitomar consenticurrazfresccaprichodeveradeverapara marianapessoa gêncostsenunirazão observavinte maria maria otfátronlevantoueles onde aguamavasolimisteriosonde santirreirreirretrontroncontra contra velacad[pôde convenconvenconvenculpaaliásuloemíliacancancanimportejavoltar adeuslhabela)\n",
      ")\n",
      "    -- )\n",
      "apljerônimojerônimojerônimojerônimoionjerônimojerônimoventuraventuracustcustafacompecinaza pequena pequena recordarecordarecordarecordarecordarecorda\n",
      "\n"
     ]
    }
   ],
   "source": [
    "complete_phrase('maicon lia um livro quando', tokens=100, colors=False)"
   ]
  }
 ]
}