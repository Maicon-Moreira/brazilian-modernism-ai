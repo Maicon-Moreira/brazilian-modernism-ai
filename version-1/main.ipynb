{
 "metadata": {
  "language_info": {
   "codemirror_mode": {
    "name": "ipython",
    "version": 3
   },
   "file_extension": ".py",
   "mimetype": "text/x-python",
   "name": "python",
   "nbconvert_exporter": "python",
   "pygments_lexer": "ipython3",
   "version": "3.8.2-final"
  },
  "orig_nbformat": 2,
  "kernelspec": {
   "name": "Python 3.8.2 64-bit",
   "display_name": "Python 3.8.2 64-bit",
   "metadata": {
    "interpreter": {
     "hash": "31f2aee4e71d21fbe5cf8b01ff0e069b9275f58929596ceb00d14d90e3e16cd6"
    }
   }
  }
 },
 "nbformat": 4,
 "nbformat_minor": 2,
 "cells": [
  {
   "cell_type": "code",
   "execution_count": null,
   "metadata": {},
   "outputs": [],
   "source": [
    "import os\n",
    "import tensorflow as tf\n",
    "import tensorflow_datasets as tfds\n",
    "import tensorflow.keras as keras\n",
    "import tensorflow.keras.layers as layers\n",
    "import pickle\n",
    "import json\n",
    "import numpy as np"
   ]
  },
  {
   "cell_type": "code",
   "execution_count": null,
   "metadata": {},
   "outputs": [],
   "source": [
    "print(tfds.__version__)"
   ]
  },
  {
   "cell_type": "code",
   "execution_count": 38,
   "metadata": {
    "tags": []
   },
   "outputs": [],
   "source": [
    "text_lines = []\n",
    "\n",
    "for book in os.listdir('./books/'):\n",
    "    with open(f'./books/{book}', encoding='iso 8859-1') as f:\n",
    "        text_lines += f.readlines()\n",
    "\n",
    "text_lines = [a.lower() for a in text_lines]\n",
    "\n",
    "filtered_text_lines = []\n",
    "\n",
    "for line in text_lines:\n",
    "    if line == '\\n':\n",
    "        pass\n",
    "        # print('linha vazia')\n",
    "    else:\n",
    "        spaces = line.count(' ')\n",
    "        total = len(line)\n",
    "\n",
    "        empty_space = spaces/total\n",
    "\n",
    "        if empty_space >= 0.5:\n",
    "            pass\n",
    "\n",
    "        else:\n",
    "            filtered_text_lines.append(line)\n",
    "\n",
    "with open('./text.txt', 'w') as f:\n",
    "    f.writelines(filtered_text_lines)\n",
    "\n",
    "\n",
    "# www.nead.unama.br"
   ]
  },
  {
   "cell_type": "code",
   "execution_count": null,
   "metadata": {},
   "outputs": [],
   "source": [
    "# tokenizer = tfds.features.text.SubwordTextEncoder.build_from_corpus(text_lines, target_vocab_size=2**13)"
   ]
  },
  {
   "cell_type": "code",
   "execution_count": null,
   "metadata": {},
   "outputs": [],
   "source": [
    "# with open('tokenizer', 'wb') as f:\n",
    "#     f.write(pickle.dumps(tokenizer))"
   ]
  },
  {
   "cell_type": "code",
   "execution_count": 39,
   "metadata": {},
   "outputs": [],
   "source": [
    "with open('tokenizer', 'rb') as f:\n",
    "    tokenizer = pickle.loads(f.read())\n",
    "\n",
    "vocab_size = tokenizer.vocab_size"
   ]
  },
  {
   "cell_type": "code",
   "execution_count": 44,
   "metadata": {},
   "outputs": [],
   "source": [
    "# text = ''.join(filtered_text_lines)"
   ]
  },
  {
   "cell_type": "code",
   "execution_count": 45,
   "metadata": {},
   "outputs": [],
   "source": [
    "# tokens = tokenizer.encode(text)"
   ]
  },
  {
   "cell_type": "code",
   "execution_count": 46,
   "metadata": {},
   "outputs": [],
   "source": [
    "# with open('tokens.json', 'w') as f:\n",
    "    # f.write(json.dumps(tokens))"
   ]
  },
  {
   "cell_type": "code",
   "execution_count": 47,
   "metadata": {},
   "outputs": [],
   "source": [
    "with open('tokens.json', 'r') as f:\n",
    "    tokens = json.loads(f.read())"
   ]
  },
  {
   "cell_type": "code",
   "execution_count": null,
   "metadata": {},
   "outputs": [],
   "source": [
    "# model = keras.Sequential([\n",
    "#     layers.Embedding(input_dim=vocab_size, output_dim=256, input_shape=(100,)),\n",
    "#     layers.LSTM(512),\n",
    "#     layers.Dense(2048),\n",
    "#     layers.Dense(vocab_size, activation='softmax')\n",
    "# ])\n",
    "\n",
    "# model.compile(optimizer='adam', loss='categorical_crossentropy', metrics=['accuracy'])\n",
    "\n",
    "# model.summary()"
   ]
  },
  {
   "cell_type": "code",
   "execution_count": null,
   "metadata": {},
   "outputs": [],
   "source": [
    "# model.save('model.h5')"
   ]
  },
  {
   "cell_type": "code",
   "execution_count": 121,
   "metadata": {},
   "outputs": [
    {
     "output_type": "stream",
     "name": "stdout",
     "text": [
      "Model: \"sequential\"\n_________________________________________________________________\nLayer (type)                 Output Shape              Param #   \n=================================================================\nembedding (Embedding)        (None, 100, 256)          2102784   \n_________________________________________________________________\nlstm (LSTM)                  (None, 512)               1574912   \n_________________________________________________________________\ndense (Dense)                (None, 2048)              1050624   \n_________________________________________________________________\ndense_1 (Dense)              (None, 8214)              16830486  \n=================================================================\nTotal params: 21,558,806\nTrainable params: 21,558,806\nNon-trainable params: 0\n_________________________________________________________________\n"
     ]
    }
   ],
   "source": [
    "model = keras.models.load_model('model.h5')\n",
    "\n",
    "model.summary()"
   ]
  },
  {
   "cell_type": "code",
   "execution_count": null,
   "metadata": {
    "tags": []
   },
   "outputs": [],
   "source": [
    "for i in range(0, len(tokens), 1024):\n",
    "    x = []\n",
    "    y = []\n",
    "\n",
    "    for ii in range(i, i+1024):\n",
    "        x += [tokens[ii:(ii+100)]]\n",
    "        y.append(tokens[ii+100])\n",
    "\n",
    "    \n",
    "    x = np.array(x)\n",
    "    y = keras.utils.to_categorical(y, num_classes=vocab_size)\n",
    "\n",
    "    model.fit(x, y, batch_size=64)"
   ]
  },
  {
   "cell_type": "code",
   "execution_count": 118,
   "metadata": {},
   "outputs": [],
   "source": [
    "from sty import fg, bg, ef, rs\n",
    "from tqdm import tqdm\n",
    "\n",
    "def complete_phrase(phrase, tokens=100, colors=True):\n",
    "    print('-'*100)\n",
    "    print('ENTRADA\\n')\n",
    "    print(phrase)\n",
    "\n",
    "    string = phrase\n",
    "\n",
    "    text = tokenizer.encode(phrase)\n",
    "\n",
    "\n",
    "    for _ in tqdm(range(tokens)):\n",
    "        prediction = model.predict(np.array([text]))[0]\n",
    "\n",
    "        max_i = np.argmax(prediction)\n",
    "        max_value = prediction[max_i]\n",
    "\n",
    "        if colors:\n",
    "            if max_value < 0.5:\n",
    "                color = bg(int(255*abs(0.5-max_value)*2), 0, 0)\n",
    "            else:\n",
    "                color = bg(0, int(255*abs(0.5-max_value)*2), 0)\n",
    "\n",
    "            string += color + tokenizer.decode([max_i])\n",
    "        \n",
    "        else:\n",
    "            string += tokenizer.decode([max_i])\n",
    "\n",
    "        text += [max_i]\n",
    "\n",
    "    print('-'*100)\n",
    "    print('SAIDA\\n')\n",
    "    # print(tokenizer.decode(text))\n",
    "    print(string)"
   ]
  },
  {
   "cell_type": "code",
   "execution_count": 124,
   "metadata": {},
   "outputs": [
    {
     "output_type": "stream",
     "name": "stderr",
     "text": [
      "  2%|▏         | 2/100 [00:00<00:05, 17.02it/s]----------------------------------------------------------------------------------------------------\n",
      "ENTRADA\n",
      "\n",
      "maicon lia um livro quando\n",
      "100%|██████████| 100/100 [00:10<00:00,  9.62it/s]----------------------------------------------------------------------------------------------------\n",
      "SAIDA\n",
      "\n",
      "maicon lia um livro quando, estando escuro, escuro, escuro,\n",
      "circulava o aposento.\n",
      "       o relógio de rosalina foi conduzido pela porta do quarto de rosalina,\n",
      "que estava fechada dentro de uma alcova, e o outro, que se achava diante\n",
      "dela, parecia que o corredor estava escuro.\n",
      "       o pataca acendeu o gás, e foi sentar-se à janela, com um ar de\n",
      "tristeza, que parecia estar muito disposta a receber o obséquio de adelaide.\n",
      "       o bacharel\n",
      "\n"
     ]
    }
   ],
   "source": [
    "complete_phrase('maicon lia um livro quando', tokens=100, colors=False)"
   ]
  }
 ]
}