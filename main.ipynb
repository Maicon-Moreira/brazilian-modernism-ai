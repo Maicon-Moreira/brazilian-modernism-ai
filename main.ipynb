{
 "metadata": {
  "language_info": {
   "codemirror_mode": {
    "name": "ipython",
    "version": 3
   },
   "file_extension": ".py",
   "mimetype": "text/x-python",
   "name": "python",
   "nbconvert_exporter": "python",
   "pygments_lexer": "ipython3",
   "version": "3.8.2-final"
  },
  "orig_nbformat": 2,
  "kernelspec": {
   "name": "Python 3.8.2 64-bit",
   "display_name": "Python 3.8.2 64-bit",
   "metadata": {
    "interpreter": {
     "hash": "31f2aee4e71d21fbe5cf8b01ff0e069b9275f58929596ceb00d14d90e3e16cd6"
    }
   }
  }
 },
 "nbformat": 4,
 "nbformat_minor": 2,
 "cells": [
  {
   "cell_type": "code",
   "execution_count": null,
   "metadata": {},
   "outputs": [],
   "source": [
    "import os\n",
    "import tensorflow as tf\n",
    "import tensorflow_datasets as tfds\n",
    "import tensorflow.keras as keras\n",
    "import tensorflow.keras.layers as layers\n",
    "import pickle\n",
    "import json\n",
    "import numpy as np"
   ]
  },
  {
   "cell_type": "code",
   "execution_count": null,
   "metadata": {},
   "outputs": [],
   "source": [
    "print(tfds.__version__)"
   ]
  },
  {
   "cell_type": "code",
   "execution_count": 38,
   "metadata": {
    "tags": []
   },
   "outputs": [],
   "source": [
    "text_lines = []\n",
    "\n",
    "for book in os.listdir('./books/'):\n",
    "    with open(f'./books/{book}', encoding='iso 8859-1') as f:\n",
    "        text_lines += f.readlines()\n",
    "\n",
    "text_lines = [a.lower() for a in text_lines]\n",
    "\n",
    "filtered_text_lines = []\n",
    "\n",
    "for line in text_lines:\n",
    "    if line == '\\n':\n",
    "        pass\n",
    "        # print('linha vazia')\n",
    "    else:\n",
    "        spaces = line.count(' ')\n",
    "        total = len(line)\n",
    "\n",
    "        empty_space = spaces/total\n",
    "\n",
    "        if empty_space >= 0.5:\n",
    "            pass\n",
    "\n",
    "        else:\n",
    "            filtered_text_lines.append(line)\n",
    "\n",
    "with open('./text.txt', 'w') as f:\n",
    "    f.writelines(filtered_text_lines)\n",
    "\n",
    "\n",
    "# www.nead.unama.br"
   ]
  },
  {
   "cell_type": "code",
   "execution_count": null,
   "metadata": {},
   "outputs": [],
   "source": [
    "# tokenizer = tfds.features.text.SubwordTextEncoder.build_from_corpus(text_lines, target_vocab_size=2**13)"
   ]
  },
  {
   "cell_type": "code",
   "execution_count": null,
   "metadata": {},
   "outputs": [],
   "source": [
    "# with open('tokenizer', 'wb') as f:\n",
    "#     f.write(pickle.dumps(tokenizer))"
   ]
  },
  {
   "cell_type": "code",
   "execution_count": 39,
   "metadata": {},
   "outputs": [],
   "source": [
    "with open('tokenizer', 'rb') as f:\n",
    "    tokenizer = pickle.loads(f.read())\n",
    "\n",
    "vocab_size = tokenizer.vocab_size"
   ]
  },
  {
   "cell_type": "code",
   "execution_count": 44,
   "metadata": {},
   "outputs": [],
   "source": [
    "# text = ''.join(filtered_text_lines)"
   ]
  },
  {
   "cell_type": "code",
   "execution_count": 45,
   "metadata": {},
   "outputs": [],
   "source": [
    "# tokens = tokenizer.encode(text)"
   ]
  },
  {
   "cell_type": "code",
   "execution_count": 46,
   "metadata": {},
   "outputs": [],
   "source": [
    "# with open('tokens.json', 'w') as f:\n",
    "    # f.write(json.dumps(tokens))"
   ]
  },
  {
   "cell_type": "code",
   "execution_count": 47,
   "metadata": {},
   "outputs": [],
   "source": [
    "with open('tokens.json', 'r') as f:\n",
    "    tokens = json.loads(f.read())"
   ]
  },
  {
   "cell_type": "code",
   "execution_count": null,
   "metadata": {},
   "outputs": [],
   "source": [
    "# model = keras.Sequential([\n",
    "#     layers.Embedding(input_dim=vocab_size, output_dim=256, input_shape=(100,)),\n",
    "#     layers.LSTM(512),\n",
    "#     layers.Dense(2048),\n",
    "#     layers.Dense(vocab_size, activation='softmax')\n",
    "# ])\n",
    "\n",
    "# model.compile(optimizer='adam', loss='categorical_crossentropy', metrics=['accuracy'])\n",
    "\n",
    "# model.summary()"
   ]
  },
  {
   "cell_type": "code",
   "execution_count": null,
   "metadata": {},
   "outputs": [],
   "source": [
    "# model.save('model.h5')"
   ]
  },
  {
   "cell_type": "code",
   "execution_count": 49,
   "metadata": {},
   "outputs": [],
   "source": [
    "model = keras.models.load_model('model.h5')"
   ]
  },
  {
   "cell_type": "code",
   "execution_count": null,
   "metadata": {
    "tags": []
   },
   "outputs": [],
   "source": [
    "for i in range(0, len(tokens), 1024):\n",
    "    x = []\n",
    "    y = []\n",
    "\n",
    "    for ii in range(i, i+1024):\n",
    "        x += [tokens[ii:(ii+100)]]\n",
    "        y.append(tokens[ii+100])\n",
    "\n",
    "    \n",
    "    x = np.array(x)\n",
    "    y = keras.utils.to_categorical(y, num_classes=vocab_size)\n",
    "\n",
    "    model.fit(x, y, batch_size=64)"
   ]
  },
  {
   "cell_type": "code",
   "execution_count": 82,
   "metadata": {},
   "outputs": [],
   "source": [
    "from sty import fg, bg, ef, rs\n",
    "\n",
    "def complete_phrase(phrase, tokens=100, colors=True):\n",
    "    print('-'*100)\n",
    "    print('ENTRADA\\n')\n",
    "    print(phrase)\n",
    "\n",
    "    string = phrase\n",
    "\n",
    "    text = tokenizer.encode(phrase)\n",
    "\n",
    "\n",
    "    for _ in range(tokens):\n",
    "        prediction = model.predict(np.array([text]))[0]\n",
    "\n",
    "        max_i = np.argmax(prediction)\n",
    "        max_value = prediction[max_i]\n",
    "\n",
    "        if max_value < 0.5:\n",
    "            color = bg(int(255*abs(0.5-max_value)*2), 0, 0)\n",
    "        else:\n",
    "            color = bg(0, int(255*abs(0.5-max_value)*2), 0)\n",
    "\n",
    "        string += color + tokenizer.decode([max_i])\n",
    "\n",
    "        text += [max_i]\n",
    "\n",
    "    print('-'*100)\n",
    "    print('SAIDA\\n')\n",
    "    # print(tokenizer.decode(text))\n",
    "    print(string)"
   ]
  },
  {
   "cell_type": "code",
   "execution_count": 86,
   "metadata": {},
   "outputs": [
    {
     "output_type": "stream",
     "name": "stdout",
     "text": [
      "----------------------------------------------------------------------------------------------------\n",
      "ENTRADA\n",
      "\n",
      "maicon lia um livro quando de repente \n",
      "----------------------------------------------------------------------------------------------------\n",
      "SAIDA\n",
      "\n",
      "maicon lia um livro quando de repente \u001b[48;2;114;0;0msurgi\u001b[48;2;0;123;0mu \u001b[48;2;144;0;0mda \u001b[48;2;213;0;0msala \u001b[48;2;111;0;0mde \u001b[48;2;37;0;0mvisitas\u001b[48;2;80;0;0m.\n",
      "\u001b[48;2;232;0;0mera \u001b[48;2;109;0;0muma \u001b[48;2;239;0;0mfesta \u001b[48;2;170;0;0mde \u001b[48;2;210;0;0mmáscara\u001b[48;2;0;173;0ms\u001b[48;2;8;0;0m, \u001b[48;2;170;0;0mque \u001b[48;2;212;0;0mo \u001b[48;2;231;0;0mbaile \u001b[48;2;202;0;0mdo \u001b[48;2;214;0;0mbarão \u001b[48;2;216;0;0mdo \u001b[48;2;208;0;0mrio \u001b[48;2;0;49;0mde \u001b[48;2;0;122;0mjaneiro\u001b[48;2;0;81;0m, \u001b[48;2;231;0;0mo \u001b[48;2;237;0;0mqual\u001b[48;2;0;238;0m\n",
      "\u001b[48;2;240;0;0mera \u001b[48;2;186;0;0mo \u001b[48;2;237;0;0mmesmo \u001b[48;2;234;0;0mque \u001b[48;2;222;0;0mse \u001b[48;2;233;0;0mpassava \u001b[48;2;185;0;0mem \u001b[48;2;136;0;0mparis\u001b[48;2;65;0;0m, \u001b[48;2;190;0;0me \u001b[48;2;231;0;0mo \u001b[48;2;239;0;0mbacharel\u001b[48;2;0;205;0m \u001b[48;2;218;0;0mnão \u001b[48;2;213;0;0mera \u001b[48;2;206;0;0mhomem \u001b[48;2;26;0;0mde \u001b[48;2;232;0;0mum\u001b[48;2;0;253;0m\n",
      "\u001b[48;2;224;0;0mgrande \u001b[48;2;193;0;0mtalento \u001b[48;2;105;0;0mde \u001b[48;2;223;0;0martista\u001b[48;2;28;0;0m \u001b[48;2;206;0;0me \u001b[48;2;176;0;0mde \u001b[48;2;224;0;0muma \u001b[48;2;222;0;0msociedade \u001b[48;2;200;0;0mque \u001b[48;2;201;0;0mse \u001b[48;2;232;0;0mocupa\u001b[48;2;0;35;0mva \u001b[48;2;179;0;0mde \u001b[48;2;204;0;0mum \u001b[48;2;206;0;0mpaís\u001b[48;2;52;0;0m \u001b[48;2;116;0;0mnovo\u001b[48;2;33;0;0m\n",
      "\u001b[48;2;192;0;0me \u001b[48;2;220;0;0mde \u001b[48;2;212;0;0muma \u001b[48;2;228;0;0msociedade \u001b[48;2;220;0;0mque \u001b[48;2;195;0;0mse \u001b[48;2;232;0;0mnão \u001b[48;2;231;0;0mpodia \u001b[48;2;217;0;0mfazer \u001b[48;2;227;0;0mde \u001b[48;2;183;0;0muma \u001b[48;2;225;0;0msociedade \u001b[48;2;227;0;0mhonesta\u001b[48;2;2;0;0m.\n",
      "\u001b[48;2;181;0;0m       \u001b[48;2;217;0;0mo \u001b[48;2;230;0;0mbacharel\u001b[48;2;0;200;0m \u001b[48;2;192;0;0mnão \u001b[48;2;210;0;0mgostava \u001b[48;2;0;15;0mde \u001b[48;2;156;0;0mpolítica\u001b[48;2;0;67;0m, \u001b[48;2;167;0;0mmas \u001b[48;2;224;0;0mera \u001b[48;2;218;0;0mum \u001b[48;2;242;0;0mhomem \u001b[48;2;164;0;0mde \u001b[48;2;198;0;0mtalento\u001b[48;2;0;139;0m\n",
      "\u001b[48;2;144;0;0mdiplom\u001b[48;2;0;206;0mático\u001b[48;2;0;73;0m, \u001b[48;2;174;0;0mum \u001b[48;2;224;0;0mhomem \n"
     ]
    }
   ],
   "source": [
    "complete_phrase('maicon lia um livro quando de repente ', tokens=100)"
   ]
  }
 ]
}