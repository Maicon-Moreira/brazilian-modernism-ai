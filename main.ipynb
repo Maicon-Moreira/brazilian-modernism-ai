{
 "metadata": {
  "language_info": {
   "codemirror_mode": {
    "name": "ipython",
    "version": 3
   },
   "file_extension": ".py",
   "mimetype": "text/x-python",
   "name": "python",
   "nbconvert_exporter": "python",
   "pygments_lexer": "ipython3",
   "version": "3.8.2-final"
  },
  "orig_nbformat": 2,
  "kernelspec": {
   "name": "Python 3.8.2 64-bit",
   "display_name": "Python 3.8.2 64-bit",
   "metadata": {
    "interpreter": {
     "hash": "31f2aee4e71d21fbe5cf8b01ff0e069b9275f58929596ceb00d14d90e3e16cd6"
    }
   }
  }
 },
 "nbformat": 4,
 "nbformat_minor": 2,
 "cells": [
  {
   "cell_type": "code",
   "execution_count": 50,
   "metadata": {},
   "outputs": [],
   "source": [
    "import os\n",
    "import tensorflow as tf\n",
    "import tensorflow_datasets as tfds\n",
    "import tensorflow.keras as keras\n",
    "import tensorflow.keras.layers as layers\n",
    "import pickle\n",
    "import json"
   ]
  },
  {
   "cell_type": "code",
   "execution_count": 21,
   "metadata": {},
   "outputs": [],
   "source": [
    "text_lines = []\n",
    "\n",
    "for book in os.listdir('./books/'):\n",
    "    with open(f'./books/{book}', encoding='iso 8859-1') as f:\n",
    "        text_lines += f.readlines()\n",
    "\n",
    "text_lines = [a.lower() for a in text_lines]\n",
    "\n",
    "with open('./text.txt', 'w') as f:\n",
    "    f.writelines(text_lines)"
   ]
  },
  {
   "cell_type": "code",
   "execution_count": 27,
   "metadata": {},
   "outputs": [],
   "source": [
    "# tokenizer = tfds.features.text.SubwordTextEncoder.build_from_corpus(text_lines, target_vocab_size=2**13)"
   ]
  },
  {
   "cell_type": "code",
   "execution_count": 39,
   "metadata": {},
   "outputs": [],
   "source": [
    "# with open('tokenizer', 'wb') as f:\n",
    "#     f.write(pickle.dumps(tokenizer))"
   ]
  },
  {
   "cell_type": "code",
   "execution_count": 42,
   "metadata": {},
   "outputs": [],
   "source": [
    "with open('tokenizer', 'rb') as f:\n",
    "    tokenizer = pickle.loads(f.read())"
   ]
  },
  {
   "cell_type": "code",
   "execution_count": 56,
   "metadata": {},
   "outputs": [
    {
     "output_type": "stream",
     "name": "stdout",
     "text": [
      "760 triste \n4609 irr\n238 is\n93 ão \n23 é \n2 a \n3543 glória\n8 . \n6175 quantos \n6572 engenho\n15 s \n6591 sublime\n8073 s\n1 , \n1784 criado\n15 s \n19 para \n21 as \n3457 arroj\n1662 adas \n1633 conc\n3367 ep\n561 ções\n"
     ]
    }
   ],
   "source": [
    "tokens = tokenizer.encode('triste irrisão é a glória. quantos engenhos sublimes, criados para as arrojadas concepções')\n",
    "\n",
    "for numero in tokens:\n",
    "    print(numero, tokenizer.decode([numero]))"
   ]
  },
  {
   "cell_type": "code",
   "execution_count": 45,
   "metadata": {},
   "outputs": [],
   "source": [
    "text = ''.join(text_lines)"
   ]
  },
  {
   "cell_type": "code",
   "execution_count": 47,
   "metadata": {},
   "outputs": [],
   "source": [
    "tokens = tokenizer.encode(text)"
   ]
  },
  {
   "cell_type": "code",
   "execution_count": 51,
   "metadata": {},
   "outputs": [],
   "source": [
    "with open('tokens.json', 'w') as f:\n",
    "    f.write(json.dumps(tokens))"
   ]
  }
 ]
}