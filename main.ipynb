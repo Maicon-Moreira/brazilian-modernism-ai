{
 "metadata": {
  "language_info": {
   "codemirror_mode": {
    "name": "ipython",
    "version": 3
   },
   "file_extension": ".py",
   "mimetype": "text/x-python",
   "name": "python",
   "nbconvert_exporter": "python",
   "pygments_lexer": "ipython3",
   "version": "3.8.2-final"
  },
  "orig_nbformat": 2,
  "kernelspec": {
   "name": "Python 3.8.2 64-bit",
   "display_name": "Python 3.8.2 64-bit",
   "metadata": {
    "interpreter": {
     "hash": "31f2aee4e71d21fbe5cf8b01ff0e069b9275f58929596ceb00d14d90e3e16cd6"
    }
   }
  }
 },
 "nbformat": 4,
 "nbformat_minor": 2,
 "cells": [
  {
   "cell_type": "code",
   "execution_count": null,
   "metadata": {},
   "outputs": [],
   "source": [
    "import os\n",
    "import tensorflow as tf\n",
    "import tensorflow_datasets as tfds\n",
    "import tensorflow.keras as keras\n",
    "import tensorflow.keras.layers as layers\n",
    "import pickle\n",
    "import json\n",
    "import numpy as np"
   ]
  },
  {
   "cell_type": "code",
   "execution_count": null,
   "metadata": {},
   "outputs": [],
   "source": [
    "print(tfds.__version__)"
   ]
  },
  {
   "cell_type": "code",
   "execution_count": null,
   "metadata": {},
   "outputs": [],
   "source": [
    "text_lines = []\n",
    "\n",
    "for book in os.listdir('./books/'):\n",
    "    with open(f'./books/{book}', encoding='iso 8859-1') as f:\n",
    "        text_lines += f.readlines()\n",
    "\n",
    "text_lines = [a.lower() for a in text_lines]\n",
    "\n",
    "with open('./text.txt', 'w') as f:\n",
    "    f.writelines(text_lines)"
   ]
  },
  {
   "cell_type": "code",
   "execution_count": null,
   "metadata": {},
   "outputs": [],
   "source": [
    "# tokenizer = tfds.features.text.SubwordTextEncoder.build_from_corpus(text_lines, target_vocab_size=2**13)"
   ]
  },
  {
   "cell_type": "code",
   "execution_count": null,
   "metadata": {},
   "outputs": [],
   "source": [
    "# with open('tokenizer', 'wb') as f:\n",
    "#     f.write(pickle.dumps(tokenizer))"
   ]
  },
  {
   "cell_type": "code",
   "execution_count": null,
   "metadata": {},
   "outputs": [],
   "source": [
    "with open('tokenizer', 'rb') as f:\n",
    "    tokenizer = pickle.loads(f.read())\n",
    "\n",
    "vocab_size = tokenizer.vocab_size"
   ]
  },
  {
   "cell_type": "code",
   "execution_count": null,
   "metadata": {},
   "outputs": [],
   "source": [
    "# text = ''.join(text_lines)"
   ]
  },
  {
   "cell_type": "code",
   "execution_count": null,
   "metadata": {},
   "outputs": [],
   "source": [
    "# tokens = tokenizer.encode(text)"
   ]
  },
  {
   "cell_type": "code",
   "execution_count": null,
   "metadata": {},
   "outputs": [],
   "source": [
    "# with open('tokens.json', 'w') as f:\n",
    "#     f.write(json.dumps(tokens))"
   ]
  },
  {
   "cell_type": "code",
   "execution_count": null,
   "metadata": {},
   "outputs": [],
   "source": [
    "with open('tokens.json', 'r') as f:\n",
    "    tokens = json.loads(f.read())"
   ]
  },
  {
   "cell_type": "code",
   "execution_count": null,
   "metadata": {},
   "outputs": [],
   "source": [
    "model = keras.Sequential([\n",
    "    layers.Embedding(input_dim=vocab_size, output_dim=256, input_shape=(100,)),\n",
    "    layers.LSTM(512),\n",
    "    layers.Dense(2048),\n",
    "    layers.Dense(vocab_size, activation='softmax')\n",
    "])\n",
    "\n",
    "model.compile(optimizer='adam', loss='categorical_crossentropy', metrics=['accuracy'])\n",
    "\n",
    "model.summary()"
   ]
  },
  {
   "cell_type": "code",
   "execution_count": null,
   "metadata": {},
   "outputs": [],
   "source": [
    "# model.save('model.h5')"
   ]
  },
  {
   "cell_type": "code",
   "execution_count": 50,
   "metadata": {},
   "outputs": [],
   "source": [
    "model = keras.models.load_model('model.h5')"
   ]
  },
  {
   "cell_type": "code",
   "execution_count": null,
   "metadata": {
    "tags": []
   },
   "outputs": [],
   "source": [
    "for i in range(0, len(tokens), 1024):\n",
    "    x = []\n",
    "    y = []\n",
    "\n",
    "    for ii in range(i, i+1024):\n",
    "        x += [tokens[ii:(ii+100)]]\n",
    "        y.append(tokens[ii+100])\n",
    "\n",
    "    \n",
    "    x = np.array(x)\n",
    "    y = keras.utils.to_categorical(y, num_classes=vocab_size)\n",
    "\n",
    "    model.fit(x, y, batch_size=64)"
   ]
  },
  {
   "cell_type": "code",
   "execution_count": 48,
   "metadata": {},
   "outputs": [],
   "source": [
    "def complete_phrase(phrase, tokens=100):\n",
    "    print('-'*100)\n",
    "    print('ENTRADA\\n')\n",
    "    print(phrase)\n",
    "\n",
    "    text = tokenizer.encode(phrase)\n",
    "\n",
    "\n",
    "    for _ in range(100):\n",
    "        text += [np.argmax(model.predict(np.array([text])))]\n",
    "\n",
    "    print('-'*100)\n",
    "    print('SAIDA\\n')\n",
    "    print(tokenizer.decode(text))"
   ]
  },
  {
   "cell_type": "code",
   "execution_count": 52,
   "metadata": {},
   "outputs": [
    {
     "output_type": "stream",
     "name": "stdout",
     "text": [
      "----------------------------------------------------------------------------------------------------\n",
      "ENTRADA\n",
      "\n",
      "e o viajante maicon\n",
      "----------------------------------------------------------------------------------------------------\n",
      "SAIDA\n",
      "\n",
      "e o viajante maiconã, que o vento da terra, e o que se levanta a\n",
      "seus pés, não se moveu, e o céu se lhe afigurava o que se levanta a alma.\n",
      "\n",
      "\n",
      "\n",
      "\n",
      "                                                                                                      28\n",
      "\f\n",
      "                                                                                www.nead.unama.br\n",
      "\n",
      "\n",
      "       o velho rodrigues não se lembrava de que o mancebo se lhe afigurava\n",
      "\f\n",
      "                                                                                  88\n",
      "\f\n",
      "                                                                                \n"
     ]
    }
   ],
   "source": [
    "complete_phrase('e o viajante maicon')"
   ]
  }
 ]
}